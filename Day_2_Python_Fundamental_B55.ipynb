{
 "cells": [
  {
   "cell_type": "code",
   "execution_count": null,
   "id": "b34f66ed",
   "metadata": {},
   "outputs": [],
   "source": [
    "#understanding variables in python"
   ]
  },
  {
   "cell_type": "code",
   "execution_count": 2,
   "id": "5245cdbb",
   "metadata": {},
   "outputs": [],
   "source": [
    "x=5\n",
    "y=3"
   ]
  },
  {
   "cell_type": "code",
   "execution_count": 3,
   "id": "2aaba5e7",
   "metadata": {},
   "outputs": [
    {
     "data": {
      "text/plain": [
       "8"
      ]
     },
     "execution_count": 3,
     "metadata": {},
     "output_type": "execute_result"
    }
   ],
   "source": [
    "x+y"
   ]
  },
  {
   "cell_type": "code",
   "execution_count": null,
   "id": "ac2edeea",
   "metadata": {},
   "outputs": [],
   "source": [
    "#Rules for declaring the varibles"
   ]
  },
  {
   "cell_type": "code",
   "execution_count": null,
   "id": "91a36a52",
   "metadata": {},
   "outputs": [],
   "source": [
    "1)No namespace while declaring the variable name"
   ]
  },
  {
   "cell_type": "code",
   "execution_count": 6,
   "id": "4dcccd9b",
   "metadata": {},
   "outputs": [
    {
     "name": "stdout",
     "output_type": "stream",
     "text": [
      "mansi\n"
     ]
    }
   ],
   "source": [
    "firstname='mansi'\n",
    "print(firstname)"
   ]
  },
  {
   "cell_type": "code",
   "execution_count": 7,
   "id": "ecd11c43",
   "metadata": {},
   "outputs": [
    {
     "ename": "SyntaxError",
     "evalue": "invalid syntax (Temp/ipykernel_5684/243537281.py, line 1)",
     "output_type": "error",
     "traceback": [
      "\u001b[1;36m  File \u001b[1;32m\"C:\\Users\\mansi\\AppData\\Local\\Temp/ipykernel_5684/243537281.py\"\u001b[1;36m, line \u001b[1;32m1\u001b[0m\n\u001b[1;33m    first name='mansi'\u001b[0m\n\u001b[1;37m          ^\u001b[0m\n\u001b[1;31mSyntaxError\u001b[0m\u001b[1;31m:\u001b[0m invalid syntax\n"
     ]
    }
   ],
   "source": [
    "first name='mansi'\n",
    "print(first name)"
   ]
  },
  {
   "cell_type": "code",
   "execution_count": null,
   "id": "24e67a22",
   "metadata": {},
   "outputs": [],
   "source": [
    "2)A variable name should not start with number"
   ]
  },
  {
   "cell_type": "code",
   "execution_count": 8,
   "id": "530575c3",
   "metadata": {},
   "outputs": [
    {
     "name": "stdout",
     "output_type": "stream",
     "text": [
      "mansi\n"
     ]
    }
   ],
   "source": [
    "name123='mansi'\n",
    "print(name123)"
   ]
  },
  {
   "cell_type": "code",
   "execution_count": 9,
   "id": "90094ecb",
   "metadata": {},
   "outputs": [
    {
     "ename": "SyntaxError",
     "evalue": "invalid syntax (Temp/ipykernel_5684/1915993837.py, line 1)",
     "output_type": "error",
     "traceback": [
      "\u001b[1;36m  File \u001b[1;32m\"C:\\Users\\mansi\\AppData\\Local\\Temp/ipykernel_5684/1915993837.py\"\u001b[1;36m, line \u001b[1;32m1\u001b[0m\n\u001b[1;33m    123name='mansi'\u001b[0m\n\u001b[1;37m       ^\u001b[0m\n\u001b[1;31mSyntaxError\u001b[0m\u001b[1;31m:\u001b[0m invalid syntax\n"
     ]
    }
   ],
   "source": [
    "123name='mansi'\n",
    "print(123name)"
   ]
  },
  {
   "cell_type": "code",
   "execution_count": null,
   "id": "34d9b6d0",
   "metadata": {},
   "outputs": [],
   "source": [
    "3)a variable name should not contain any special character"
   ]
  },
  {
   "cell_type": "code",
   "execution_count": 10,
   "id": "f8764e46",
   "metadata": {},
   "outputs": [
    {
     "ename": "SyntaxError",
     "evalue": "invalid syntax (Temp/ipykernel_5684/471080400.py, line 2)",
     "output_type": "error",
     "traceback": [
      "\u001b[1;36m  File \u001b[1;32m\"C:\\Users\\mansi\\AppData\\Local\\Temp/ipykernel_5684/471080400.py\"\u001b[1;36m, line \u001b[1;32m2\u001b[0m\n\u001b[1;33m    print(name@)\u001b[0m\n\u001b[1;37m               ^\u001b[0m\n\u001b[1;31mSyntaxError\u001b[0m\u001b[1;31m:\u001b[0m invalid syntax\n"
     ]
    }
   ],
   "source": [
    "name@='mansi'\n",
    "print(name@)"
   ]
  },
  {
   "cell_type": "code",
   "execution_count": null,
   "id": "3cca9577",
   "metadata": {},
   "outputs": [],
   "source": []
  },
  {
   "cell_type": "code",
   "execution_count": null,
   "id": "fa9c635f",
   "metadata": {},
   "outputs": [],
   "source": [
    "#Commenting in python code is using # symbol "
   ]
  },
  {
   "cell_type": "code",
   "execution_count": null,
   "id": "398024d5",
   "metadata": {},
   "outputs": [],
   "source": [
    "#Introduction to the data type"
   ]
  },
  {
   "cell_type": "code",
   "execution_count": null,
   "id": "0957acfb",
   "metadata": {},
   "outputs": [],
   "source": [
    "1.string \n",
    "2.number\n",
    "3.list\n",
    "4.tuple\n",
    "5.dictionaries\n"
   ]
  },
  {
   "cell_type": "code",
   "execution_count": null,
   "id": "c190b5db",
   "metadata": {},
   "outputs": [],
   "source": [
    "#classification of the datatypes\n",
    "\n",
    "1.mutable:- It is flexible data type which we can edit and alter\n",
    "2.immutable:- It is fixed data type which we cannot edit and alter"
   ]
  },
  {
   "cell_type": "code",
   "execution_count": null,
   "id": "7823cf6f",
   "metadata": {},
   "outputs": [],
   "source": []
  },
  {
   "cell_type": "code",
   "execution_count": null,
   "id": "877c6d01",
   "metadata": {},
   "outputs": [],
   "source": [
    "#introduction to the string data type\n",
    "\n",
    "def:- String is series of character declared in quotes\n",
    "    \n",
    "classification:- it is immutable data type"
   ]
  },
  {
   "cell_type": "code",
   "execution_count": null,
   "id": "4468f850",
   "metadata": {},
   "outputs": [],
   "source": [
    "#how to declare the string \n",
    "\n",
    "3 possible approch\n",
    "\n",
    "1)single quote\n",
    "\n",
    "eg: name='mansi'\n",
    "    \n",
    "2)double quote\n",
    "\n",
    "eg: name=\"mansi\"\n",
    "    \n",
    "3)triple quote\n",
    "\n",
    "eg:- name=\"\"\"mansi\"\"\""
   ]
  },
  {
   "cell_type": "code",
   "execution_count": null,
   "id": "67bc4d26",
   "metadata": {},
   "outputs": [],
   "source": []
  },
  {
   "cell_type": "code",
   "execution_count": null,
   "id": "c0908781",
   "metadata": {},
   "outputs": [],
   "source": []
  },
  {
   "cell_type": "code",
   "execution_count": null,
   "id": "eb3e1986",
   "metadata": {},
   "outputs": [],
   "source": []
  },
  {
   "cell_type": "code",
   "execution_count": null,
   "id": "224c3ca5",
   "metadata": {},
   "outputs": [],
   "source": []
  }
 ],
 "metadata": {
  "kernelspec": {
   "display_name": "Python 3 (ipykernel)",
   "language": "python",
   "name": "python3"
  },
  "language_info": {
   "codemirror_mode": {
    "name": "ipython",
    "version": 3
   },
   "file_extension": ".py",
   "mimetype": "text/x-python",
   "name": "python",
   "nbconvert_exporter": "python",
   "pygments_lexer": "ipython3",
   "version": "3.9.7"
  }
 },
 "nbformat": 4,
 "nbformat_minor": 5
}
